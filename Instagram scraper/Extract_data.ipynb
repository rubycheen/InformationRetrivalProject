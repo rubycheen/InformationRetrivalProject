{
 "cells": [
  {
   "cell_type": "code",
   "execution_count": 36,
   "metadata": {},
   "outputs": [],
   "source": [
    "import json\n",
    "import datetime as dt\n",
    "import pandas as pd"
   ]
  },
  {
   "cell_type": "code",
   "execution_count": 95,
   "metadata": {},
   "outputs": [],
   "source": [
    "list_name = 'id_users.txt'\n",
    "users = []"
   ]
  },
  {
   "cell_type": "code",
   "execution_count": 96,
   "metadata": {},
   "outputs": [],
   "source": [
    "#extract all users' names\n",
    "with open(list_name,'r') as f1:\n",
    "    for line in f1.readlines():\n",
    "        users.append(line[:-1])"
   ]
  },
  {
   "cell_type": "code",
   "execution_count": 97,
   "metadata": {},
   "outputs": [
    {
     "data": {
      "text/plain": [
       "['franciscohwang', 'mmhc512', 'mechmech__', 'kevin_tsng']"
      ]
     },
     "execution_count": 97,
     "metadata": {},
     "output_type": "execute_result"
    }
   ],
   "source": [
    "users"
   ]
  },
  {
   "cell_type": "code",
   "execution_count": 116,
   "metadata": {},
   "outputs": [
    {
     "name": "stdout",
     "output_type": "stream",
     "text": [
      "————————Examining: franciscohwang ————————\n",
      "# of Posts: 8\n",
      "————————Examining: mmhc512 ————————\n",
      "# of Posts: 2\n",
      "————————Examining: mechmech__ ————————\n",
      "# of Posts: 302\n",
      "————————Examining: kevin_tsng ————————\n",
      "# of Posts: 0\n"
     ]
    }
   ],
   "source": [
    "for user in users:\n",
    "    json_data = user+\"/\"+user+\".json\"\n",
    "    posts_info = {}\n",
    "    \n",
    "    with open(json_data) as json_file:\n",
    "        rawdata = json.load(json_file)\n",
    "    \n",
    "    print(\"————————Examining:\",user,\"————————\") \n",
    "    #extract posts info\n",
    "    try:\n",
    "        posts = rawdata['GraphImages']\n",
    "        print(\"# of Posts:\",len(posts))\n",
    "        for post_num in range(len(posts)):\n",
    "            postdata = posts[post_num]\n",
    "            posts_info[post_num] = extract_postinfo(postdata)    \n",
    "    except:\n",
    "        print(\"# of Posts: 0\")\n",
    "        \n",
    "    userdata = rawdata['GraphProfileInfo']['info']\n",
    "    df1 = pd.DataFrame.from_dict(posts_info, orient=\"index\")\n",
    "    df1.to_csv(userdata['full_name']+\"_postinfo.csv\")\n",
    "    \n",
    "    #extract user info\n",
    "    userdata = dict(rawdata['GraphProfileInfo']['info'])\n",
    "    df2 = pd.DataFrame.from_dict(userdata,orient=\"index\")\n",
    "    df2.to_csv(userdata['full_name']+\"_userinfo.csv\",index_label=False)"
   ]
  },
  {
   "cell_type": "code",
   "execution_count": 105,
   "metadata": {},
   "outputs": [],
   "source": [
    "def extract_postinfo(postdata):\n",
    "    try:\n",
    "        post_caption = postdata['edge_media_to_caption']['edges'][0]['node']['text']\n",
    "    except:\n",
    "        post_caption = \"\"\n",
    "    likes = postdata['edge_media_preview_like']['count']\n",
    "    comments = postdata['edge_media_to_comment']['count']\n",
    "    try:\n",
    "        tags = postdata['tags']\n",
    "    except:\n",
    "        tags = []\n",
    "    time = dt.datetime.fromtimestamp(postdata['taken_at_timestamp']).strftime('%Y-%m-%d %H:%M:%S')\n",
    "    ans = {\"time\": time, \"post_caption\":post_caption,\"likes\":likes, \"comments\": comments, \"tags\": tags}\n",
    "    return ans"
   ]
  }
 ],
 "metadata": {
  "kernelspec": {
   "display_name": "Python 3",
   "language": "python",
   "name": "python3"
  },
  "language_info": {
   "codemirror_mode": {
    "name": "ipython",
    "version": 3
   },
   "file_extension": ".py",
   "mimetype": "text/x-python",
   "name": "python",
   "nbconvert_exporter": "python",
   "pygments_lexer": "ipython3",
   "version": "3.6.8"
  }
 },
 "nbformat": 4,
 "nbformat_minor": 2
}
